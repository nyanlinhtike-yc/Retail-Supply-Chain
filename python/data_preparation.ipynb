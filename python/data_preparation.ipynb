{
 "cells": [
  {
   "cell_type": "code",
   "execution_count": 1,
   "id": "d6943aa6-102f-49d9-8757-0da31f52cf50",
   "metadata": {},
   "outputs": [
    {
     "data": {
      "text/plain": [
       "Index(['Row ID', 'Order ID', 'Order Date', 'Ship Date', 'Ship Mode',\n",
       "       'Customer ID', 'Customer Name', 'Segment', 'Country', 'City', 'State',\n",
       "       'Postal Code', 'Region', 'Retail Sales People', 'Product ID',\n",
       "       'Category', 'Sub-Category', 'Product Name', 'Returned', 'Sales',\n",
       "       'Quantity', 'Discount', 'Profit'],\n",
       "      dtype='object')"
      ]
     },
     "execution_count": 1,
     "metadata": {},
     "output_type": "execute_result"
    }
   ],
   "source": [
    "import pandas as pd\n",
    "\n",
    "sales = pd.read_csv(r'N:\\SQL\\Retail Supply Chain\\datasets\\Retail Supply Chain Sales Dataset.csv', encoding='windows-1254')\n",
    "sales.columns"
   ]
  },
  {
   "cell_type": "code",
   "execution_count": 2,
   "id": "530fedc6-05d1-4d49-aee7-0c19f766f51a",
   "metadata": {},
   "outputs": [],
   "source": [
    "state_abbr = {\n",
    "    'Alabama': 'AL', 'Alaska': 'AK', 'Arizona': 'AZ', 'Arkansas': 'AR', 'California': 'CA',\n",
    "    'Colorado': 'CO', 'Connecticut': 'CT', 'Delaware': 'DE', 'Florida': 'FL', 'Georgia': 'GA',\n",
    "    'Hawaii': 'HI', 'Idaho': 'ID', 'Illinois': 'IL', 'Indiana': 'IN', 'Iowa': 'IA', 'Kansas': 'KS',\n",
    "    'Kentucky': 'KY', 'Louisiana': 'LA', 'Maine': 'ME', 'Maryland': 'MD', 'Massachusetts': 'MA',\n",
    "    'Michigan': 'MI', 'Minnesota': 'MN', 'Mississippi': 'MS', 'Missouri': 'MO', 'Montana': 'MT',\n",
    "    'Nebraska': 'NE', 'Nevada': 'NV', 'New Hampshire': 'NH', 'New Jersey': 'NJ', 'New Mexico': 'NM',\n",
    "    'New York': 'NY', 'North Carolina': 'NC', 'North Dakota': 'ND', 'Ohio': 'OH', 'Oklahoma': 'OK',\n",
    "    'Oregon': 'OR', 'Pennsylvania': 'PA', 'Rhode Island': 'RI', 'South Carolina': 'SC', 'South Dakota': 'SD',\n",
    "    'Tennessee': 'TN', 'Texas': 'TX', 'Utah': 'UT', 'Vermont': 'VT', 'Virginia': 'VA', 'Washington': 'WA',\n",
    "    'West Virginia': 'WV', 'Wisconsin': 'WI', 'Wyoming': 'WY'\n",
    "}\n",
    "# Map with State Code.\n",
    "sales.loc[:, 'State Code'] = sales['State'].map(state_abbr)\n",
    "\n",
    "# Get unique id for each location.\n",
    "sales['Location ID'] = sales['State Code'] + '-' + sales['City'] + '-' + sales['Postal Code'].astype(str)\n",
    "\n",
    "customers = sales[['Customer ID', 'Customer Name', 'Segment']]\n",
    "products = sales[['Product ID', 'Category', 'Sub-Category', 'Product Name']]\n",
    "geographic_locations = sales[['Location ID', 'Country', 'City', 'State', 'State Code', 'Postal Code', 'Region']]\n",
    "\n",
    "# Finished the sales table.\n",
    "sales = sales[['Row ID', 'Order ID', 'Order Date', 'Ship Date', 'Ship Mode',\n",
    "       'Customer ID', 'Retail Sales People', 'Product ID', 'Location ID', 'Returned', 'Sales',\n",
    "       'Quantity', 'Discount', 'Profit']]"
   ]
  },
  {
   "cell_type": "code",
   "execution_count": 3,
   "id": "c65d3202-ab5e-453c-914b-ef00e2d50657",
   "metadata": {},
   "outputs": [
    {
     "data": {
      "text/html": [
       "<div>\n",
       "<style scoped>\n",
       "    .dataframe tbody tr th:only-of-type {\n",
       "        vertical-align: middle;\n",
       "    }\n",
       "\n",
       "    .dataframe tbody tr th {\n",
       "        vertical-align: top;\n",
       "    }\n",
       "\n",
       "    .dataframe thead th {\n",
       "        text-align: right;\n",
       "    }\n",
       "</style>\n",
       "<table border=\"1\" class=\"dataframe\">\n",
       "  <thead>\n",
       "    <tr style=\"text-align: right;\">\n",
       "      <th></th>\n",
       "      <th>Customer ID</th>\n",
       "      <th>Customer Name</th>\n",
       "      <th>Segment</th>\n",
       "    </tr>\n",
       "  </thead>\n",
       "  <tbody>\n",
       "  </tbody>\n",
       "</table>\n",
       "</div>"
      ],
      "text/plain": [
       "Empty DataFrame\n",
       "Columns: [Customer ID, Customer Name, Segment]\n",
       "Index: []"
      ]
     },
     "execution_count": 3,
     "metadata": {},
     "output_type": "execute_result"
    }
   ],
   "source": [
    "# Drop duplicated to create many to one relationship with sales table.\n",
    "customers = customers.drop_duplicates(subset='Customer ID')\n",
    "\n",
    "# Check any duplicated values left in the customers table.\n",
    "customers[customers.duplicated()]"
   ]
  },
  {
   "cell_type": "code",
   "execution_count": 5,
   "id": "39e2463b-94f8-406d-ae57-898f2cc96f7b",
   "metadata": {},
   "outputs": [
    {
     "data": {
      "text/html": [
       "<div>\n",
       "<style scoped>\n",
       "    .dataframe tbody tr th:only-of-type {\n",
       "        vertical-align: middle;\n",
       "    }\n",
       "\n",
       "    .dataframe tbody tr th {\n",
       "        vertical-align: top;\n",
       "    }\n",
       "\n",
       "    .dataframe thead th {\n",
       "        text-align: right;\n",
       "    }\n",
       "</style>\n",
       "<table border=\"1\" class=\"dataframe\">\n",
       "  <thead>\n",
       "    <tr style=\"text-align: right;\">\n",
       "      <th></th>\n",
       "      <th>Product ID</th>\n",
       "      <th>Category</th>\n",
       "      <th>Sub-Category</th>\n",
       "      <th>Product Name</th>\n",
       "    </tr>\n",
       "  </thead>\n",
       "  <tbody>\n",
       "  </tbody>\n",
       "</table>\n",
       "</div>"
      ],
      "text/plain": [
       "Empty DataFrame\n",
       "Columns: [Product ID, Category, Sub-Category, Product Name]\n",
       "Index: []"
      ]
     },
     "execution_count": 5,
     "metadata": {},
     "output_type": "execute_result"
    }
   ],
   "source": [
    "products = products.drop_duplicates(subset='Product ID')\n",
    "products[products.duplicated()]"
   ]
  },
  {
   "cell_type": "code",
   "execution_count": 6,
   "id": "899bb3c7-6991-4e8e-94a9-37dac55a6609",
   "metadata": {},
   "outputs": [
    {
     "data": {
      "text/html": [
       "<div>\n",
       "<style scoped>\n",
       "    .dataframe tbody tr th:only-of-type {\n",
       "        vertical-align: middle;\n",
       "    }\n",
       "\n",
       "    .dataframe tbody tr th {\n",
       "        vertical-align: top;\n",
       "    }\n",
       "\n",
       "    .dataframe thead th {\n",
       "        text-align: right;\n",
       "    }\n",
       "</style>\n",
       "<table border=\"1\" class=\"dataframe\">\n",
       "  <thead>\n",
       "    <tr style=\"text-align: right;\">\n",
       "      <th></th>\n",
       "      <th>Location ID</th>\n",
       "      <th>Country</th>\n",
       "      <th>City</th>\n",
       "      <th>State</th>\n",
       "      <th>State Code</th>\n",
       "      <th>Postal Code</th>\n",
       "      <th>Region</th>\n",
       "    </tr>\n",
       "  </thead>\n",
       "  <tbody>\n",
       "  </tbody>\n",
       "</table>\n",
       "</div>"
      ],
      "text/plain": [
       "Empty DataFrame\n",
       "Columns: [Location ID, Country, City, State, State Code, Postal Code, Region]\n",
       "Index: []"
      ]
     },
     "execution_count": 6,
     "metadata": {},
     "output_type": "execute_result"
    }
   ],
   "source": [
    "geographic_locations = geographic_locations.drop_duplicates(subset='Location ID')\n",
    "geographic_locations[geographic_locations.duplicated()]"
   ]
  },
  {
   "cell_type": "code",
   "execution_count": 7,
   "id": "79660ad6-b591-4e0a-b464-3a9ba0baadf3",
   "metadata": {},
   "outputs": [
    {
     "name": "stdout",
     "output_type": "stream",
     "text": [
      "sales.csv successfully exported.\n",
      "customers.csv successfully exported.\n",
      "products.csv successfully exported.\n",
      "geographic_locations.csv successfully exported.\n",
      "All exports are completed.\n"
     ]
    }
   ],
   "source": [
    "import os\n",
    "\n",
    "def export_csv(tables_dict):\n",
    "    for name, df in tables_dict.items(): \n",
    "        try:\n",
    "            filepath = os.path.join(r\"N:\\SQL\\Retail Supply Chain\\datasets\", f\"{name}.csv\")\n",
    "            df.to_csv(filepath, encoding='utf-8', index=False)\n",
    "            print(f\"{name}.csv successfully exported.\")\n",
    "        except Exception as e:\n",
    "            print(f\"An error occurred while processing {name}: {e}\")\n",
    "    print(\"All exports are completed.\")\n",
    "\n",
    "export_csv({\n",
    "    \"sales\": sales,\n",
    "    \"customers\": customers,\n",
    "    \"products\": products,\n",
    "    \"geographic_locations\": geographic_locations\n",
    "})"
   ]
  },
  {
   "cell_type": "code",
   "execution_count": null,
   "id": "8f2a0f5c-ff4a-4b41-b968-91f426297f1a",
   "metadata": {},
   "outputs": [],
   "source": []
  }
 ],
 "metadata": {
  "kernelspec": {
   "display_name": "Python 3 (ipykernel)",
   "language": "python",
   "name": "python3"
  },
  "language_info": {
   "codemirror_mode": {
    "name": "ipython",
    "version": 3
   },
   "file_extension": ".py",
   "mimetype": "text/x-python",
   "name": "python",
   "nbconvert_exporter": "python",
   "pygments_lexer": "ipython3",
   "version": "3.12.6"
  }
 },
 "nbformat": 4,
 "nbformat_minor": 5
}
